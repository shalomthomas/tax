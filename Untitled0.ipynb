{
  "nbformat": 4,
  "nbformat_minor": 0,
  "metadata": {
    "colab": {
      "name": "Untitled0.ipynb",
      "provenance": [],
      "collapsed_sections": []
    },
    "kernelspec": {
      "name": "python3",
      "display_name": "Python 3"
    },
    "language_info": {
      "name": "python"
    }
  },
  "cells": [
    {
      "cell_type": "code",
      "execution_count": 22,
      "metadata": {
        "colab": {
          "base_uri": "https://localhost:8080/"
        },
        "id": "qTYAwCI5R_rQ",
        "outputId": "f1cf05bb-336d-44fe-87c9-4d6ee79c6053"
      },
      "outputs": [
        {
          "name": "stdout",
          "output_type": "stream",
          "text": [
            "enter the basic salary240000\n",
            "enter the HRA560000\n",
            "enter special allowance340000\n",
            "enter LTA20000\n"
          ]
        }
      ],
      "source": [
        "a=int(input(\"enter the basic salary\"))\n",
        "b=int(input(\"enter the HRA\"))\n",
        "c=int(input(\"enter special allowance\"))\n",
        "d=int(input(\"enter LTA\"))\n"
      ]
    },
    {
      "cell_type": "code",
      "source": [
        "if a>250000 & a<500000:\n",
        "  print(\"you are taxable\")\n",
        "  t=a*5/100\n",
        "  print(\"tax\",t)\n"
      ],
      "metadata": {
        "colab": {
          "base_uri": "https://localhost:8080/"
        },
        "id": "KUqJ56uCTuuT",
        "outputId": "07dbdaa3-144d-45a3-855e-c353ebafe030"
      },
      "execution_count": 24,
      "outputs": [
        {
          "output_type": "stream",
          "name": "stdout",
          "text": [
            "you are taxable\n",
            "tax 12000.0\n"
          ]
        }
      ]
    },
    {
      "cell_type": "code",
      "source": [
        " i=int(input(\"enter LTA:\"))\n",
        "if i>250000 and i<500000:\n",
        "  q=i-250000\n",
        "  print(\"TAX:\",q*5/100)\n",
        "elif i>500000 and i<750000:\n",
        "  q=i-500000\n",
        "  w=500000-250000\n",
        "  print(\"TAX:\",w*5/100+q*10/100)\n",
        "elif i>750000 and i<1000000:\n",
        "  q=i-750000\n",
        "  w=500000-250000\n",
        "  e=750000-500000\n",
        "  print(\"TAX:\",q*20/100+w*5/100+e*10/100))\n",
        "elif i>1000000:\n",
        "  q=i-1000000\n",
        "  w=500000-250000\n",
        "  e=750000-500000\n",
        "  r=1000000-750000\n",
        "  print(\"TAX:\",q*30/100+w*5/100+e*10/100+r*20/100)\n",
        "  "
      ],
      "metadata": {
        "id": "uws2INxkVGeE"
      },
      "execution_count": null,
      "outputs": []
    },
    {
      "cell_type": "markdown",
      "source": [
        "0"
      ],
      "metadata": {
        "id": "-L68jcYalzwc"
      }
    }
  ]
}